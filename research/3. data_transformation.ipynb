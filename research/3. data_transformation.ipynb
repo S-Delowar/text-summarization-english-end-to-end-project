{
 "cells": [
  {
   "cell_type": "code",
   "execution_count": 1,
   "metadata": {},
   "outputs": [
    {
     "data": {
      "text/plain": [
       "'e:\\\\Additional Projects\\\\ML Projects for Resume\\\\text-summarization-english-end-to-end-project\\\\research'"
      ]
     },
     "execution_count": 1,
     "metadata": {},
     "output_type": "execute_result"
    }
   ],
   "source": [
    "%pwd"
   ]
  },
  {
   "cell_type": "code",
   "execution_count": 2,
   "metadata": {},
   "outputs": [],
   "source": [
    "import os\n",
    "os.chdir(\"../\")"
   ]
  },
  {
   "cell_type": "code",
   "execution_count": 3,
   "metadata": {},
   "outputs": [
    {
     "data": {
      "text/plain": [
       "'e:\\\\Additional Projects\\\\ML Projects for Resume\\\\text-summarization-english-end-to-end-project'"
      ]
     },
     "execution_count": 3,
     "metadata": {},
     "output_type": "execute_result"
    }
   ],
   "source": [
    "%pwd"
   ]
  },
  {
   "cell_type": "code",
   "execution_count": 4,
   "metadata": {},
   "outputs": [],
   "source": [
    "#entity\n",
    "from dataclasses import dataclass\n",
    "from pathlib import Path\n",
    "\n",
    "@dataclass\n",
    "class DataTransformationConfig:\n",
    "    root_dir : Path\n",
    "    data_path : Path\n",
    "    tokenizer_name : Path\n",
    "    transformed_data_path : Path"
   ]
  },
  {
   "cell_type": "code",
   "execution_count": 10,
   "metadata": {},
   "outputs": [],
   "source": [
    "#ConfigurationManager\n",
    "from textSummarizer.constant import *\n",
    "from textSummarizer.utils.common import *\n",
    "from textSummarizer.logging import logging\n",
    "\n",
    "class ConfigurationManager:\n",
    "    def __init__(self, config_file_path = CONFIG_FILE_PATH, params_file_path = PARAMS_FILE_PATH):\n",
    "        self.config = read_yaml_file(config_file_path)\n",
    "        self.params = read_yaml_file(params_file_path)\n",
    "        \n",
    "        logging.info(f\"Read successfully the yaml files\")\n",
    "        \n",
    "        create_directories([self.config.artifacts_root])\n",
    "    \n",
    "    def get_data_transformation_config(self) -> DataTransformationConfig:\n",
    "        config = self.config.data_transformation\n",
    "        create_directories([config.root_dir])\n",
    "        \n",
    "        data_transformation_config = DataTransformationConfig(\n",
    "            root_dir= config.root_dir,\n",
    "            data_path= config.data_path,\n",
    "            tokenizer_name = config.tokenizer_name,\n",
    "            transformed_data_path= config.transformed_data_path\n",
    "        )\n",
    "        return data_transformation_config\n",
    "        "
   ]
  },
  {
   "cell_type": "code",
   "execution_count": 6,
   "metadata": {},
   "outputs": [
    {
     "name": "stderr",
     "output_type": "stream",
     "text": [
      "[2024-04-28 00:55:44,177 INFO root common 17 - yaml file- config\\config.yaml is loaded successfully]\n",
      "[2024-04-28 00:55:44,177 INFO root common 17 - yaml file- params.yaml is loaded successfully]\n",
      "[2024-04-28 00:55:44,177 INFO root 2694761416 11 - Read successfully the yaml files]\n"
     ]
    },
    {
     "name": "stdout",
     "output_type": "stream",
     "text": [
      "Directory created: artifacts\n",
      "Directory created: artifacts/data_transformation\n",
      "DataTransformationConfig(root_dir='artifacts/data_transformation', data_path='artifacts/data_ingestion/samsum_dataset', tokenizer_name='google/pegasus_cnn_dailymail', transformed_data_path='artifacts/data_transformation/samsum_data')\n"
     ]
    }
   ],
   "source": [
    "cg = ConfigurationManager()\n",
    "print(cg.data_transformation_config())"
   ]
  },
  {
   "cell_type": "code",
   "execution_count": 7,
   "metadata": {},
   "outputs": [
    {
     "name": "stderr",
     "output_type": "stream",
     "text": [
      "e:\\Additional Projects\\ML Projects for Resume\\text-summarization-english-end-to-end-project\\venv\\Lib\\site-packages\\tqdm\\auto.py:21: TqdmWarning: IProgress not found. Please update jupyter and ipywidgets. See https://ipywidgets.readthedocs.io/en/stable/user_install.html\n",
      "  from .autonotebook import tqdm as notebook_tqdm\n",
      "[2024-04-28 00:55:55,252 INFO datasets config 58 - PyTorch version 2.3.0 available.]\n"
     ]
    }
   ],
   "source": [
    "#Components\n",
    "from transformers import AutoTokenizer\n",
    "from datasets import load_dataset, load_from_disk\n",
    "\n",
    "class DataTransformation:\n",
    "    def __init__(self, config: DataTransformationConfig):\n",
    "        self.config = config\n",
    "        self.tokenizer = AutoTokenizer.from_pretrained(self.config.tokenizer_name)\n",
    "    \n",
    "    def convert_text_to_features(self, text_batch):\n",
    "        input_encodings = self.tokenizer(text_batch['dialogue'], max_length = 1024, truncation = True)\n",
    "\n",
    "        with self.tokenizer.as_target_tokenizer():\n",
    "            target_encodings = self.tokenizer(text_batch['summary'], max_length = 128, truncation = True)\n",
    "\n",
    "        return {\n",
    "            'input_ids': input_encodings['input_ids'],\n",
    "            'attention_mask': input_encodings['attention_mask'],\n",
    "            'labels': target_encodings['input_ids']\n",
    "        }    \n",
    "\n",
    "    def initiate_data_transformation(self):\n",
    "        data = load_from_disk(self.config.data_path)\n",
    "        data_pt = data.map(self.convert_text_to_features, batched= True)\n",
    "        data_pt.save_to_disk(self.config.transformed_data_path)"
   ]
  },
  {
   "cell_type": "markdown",
   "metadata": {},
   "source": [
    "# Pipeline"
   ]
  },
  {
   "cell_type": "code",
   "execution_count": 24,
   "metadata": {},
   "outputs": [],
   "source": [
    "class DataTransformationPipeline:\n",
    "    def __init__(self):\n",
    "        pass\n",
    "    \n",
    "    def main(self):\n",
    "        try:\n",
    "            config = ConfigurationManager()\n",
    "            data_transformation_config = config.get_data_transformation_config()\n",
    "            data_transformation = DataTransformation(data_transformation_config)\n",
    "            print(data_transformation)\n",
    "            data_transformation.initiate_data_transformation()\n",
    "        except Exception as e:\n",
    "            raise e"
   ]
  },
  {
   "cell_type": "code",
   "execution_count": 25,
   "metadata": {},
   "outputs": [
    {
     "name": "stderr",
     "output_type": "stream",
     "text": [
      "[2024-04-28 01:36:17,858 INFO root common 17 - yaml file- config\\config.yaml is loaded successfully]\n",
      "[2024-04-28 01:36:17,860 INFO root common 17 - yaml file- params.yaml is loaded successfully]\n",
      "[2024-04-28 01:36:17,862 INFO root 2767533730 11 - Read successfully the yaml files]\n"
     ]
    },
    {
     "name": "stdout",
     "output_type": "stream",
     "text": [
      "Directory created: artifacts\n",
      "Directory created: artifacts/data_transformation\n",
      "<__main__.DataTransformation object at 0x0000018912D80A10>\n"
     ]
    },
    {
     "name": "stderr",
     "output_type": "stream",
     "text": [
      "Map: 100%|██████████| 14732/14732 [00:04<00:00, 3319.13 examples/s]\n",
      "Saving the dataset (1/1 shards): 100%|██████████| 14732/14732 [00:00<00:00, 675010.78 examples/s]\n",
      "Saving the dataset (1/1 shards): 100%|██████████| 819/819 [00:00<00:00, 52420.80 examples/s]\n",
      "Saving the dataset (1/1 shards): 100%|██████████| 818/818 [00:00<00:00, 87239.13 examples/s]\n"
     ]
    }
   ],
   "source": [
    "dt = DataTransformationPipeline()\n",
    "dt.main()"
   ]
  },
  {
   "cell_type": "code",
   "execution_count": null,
   "metadata": {},
   "outputs": [],
   "source": []
  },
  {
   "cell_type": "code",
   "execution_count": null,
   "metadata": {},
   "outputs": [],
   "source": []
  },
  {
   "cell_type": "code",
   "execution_count": null,
   "metadata": {},
   "outputs": [],
   "source": []
  },
  {
   "cell_type": "code",
   "execution_count": null,
   "metadata": {},
   "outputs": [],
   "source": []
  }
 ],
 "metadata": {
  "kernelspec": {
   "display_name": "venv",
   "language": "python",
   "name": "python3"
  },
  "language_info": {
   "codemirror_mode": {
    "name": "ipython",
    "version": 3
   },
   "file_extension": ".py",
   "mimetype": "text/x-python",
   "name": "python",
   "nbconvert_exporter": "python",
   "pygments_lexer": "ipython3",
   "version": "3.11.2"
  }
 },
 "nbformat": 4,
 "nbformat_minor": 2
}
